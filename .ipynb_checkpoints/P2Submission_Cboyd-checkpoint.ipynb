{
 "cells": [
  {
   "cell_type": "code",
   "execution_count": 1,
   "metadata": {
    "collapsed": true
   },
   "outputs": [],
   "source": [
    "import csv, pandas, numpy"
   ]
  },
  {
   "cell_type": "code",
   "execution_count": 7,
   "metadata": {
    "collapsed": false
   },
   "outputs": [],
   "source": [
    "filepath = 'titanic.csv'\n",
    "lod = []\n",
    "df = pandas.DataFrame(lod)\n",
    "with open(filepath, 'r') as f:\n",
    "    reader = csv.DictReader(f)\n",
    "    for d in reader:\n",
    "        lod.append(d)\n",
    "    df = pandas.DataFrame(lod)"
   ]
  },
  {
   "cell_type": "code",
   "execution_count": 26,
   "metadata": {
    "collapsed": false
   },
   "outputs": [
    {
     "ename": "SyntaxError",
     "evalue": "invalid syntax (<ipython-input-26-51275c024623>, line 3)",
     "output_type": "error",
     "traceback": [
      "\u001b[0;36m  File \u001b[0;32m\"<ipython-input-26-51275c024623>\"\u001b[0;36m, line \u001b[0;32m3\u001b[0m\n\u001b[0;31m    print '%s %s' % (c,df[c]0)\u001b[0m\n\u001b[0m                            ^\u001b[0m\n\u001b[0;31mSyntaxError\u001b[0m\u001b[0;31m:\u001b[0m invalid syntax\n"
     ]
    }
   ],
   "source": [
    "def getHead(df):\n",
    "    for c in df:\n",
    "        print '%s %s' % (c,df[c]0)\n",
    "\n",
    "def getSum(df, key):\n",
    "    sum = 0.0\n",
    "    for r in df[key]:\n",
    "        if len(r) > 0:\n",
    "#             print 'r: %s %s' % (type(r),r)\n",
    "            sum += float(r)\n",
    "    return sum\n",
    "    \n",
    "def getMeans(df):\n",
    "    means = {}\n",
    "    for col in df:\n",
    "        means[col] = len(df[col]) / sum(df[col])\n",
    "    return means\n",
    "\n",
    "for col in df:\n",
    "    print col\n",
    "    print 'len: ',len(df[col])\n",
    "#     print df[col]\n",
    "    print 'sum: ',getSum(df, col)\n",
    "\n",
    "print getMeans(df)"
   ]
  },
  {
   "cell_type": "code",
   "execution_count": null,
   "metadata": {
    "collapsed": true
   },
   "outputs": [],
   "source": []
  }
 ],
 "metadata": {
  "kernelspec": {
   "display_name": "Python 2",
   "language": "python",
   "name": "python2"
  },
  "language_info": {
   "codemirror_mode": {
    "name": "ipython",
    "version": 2
   },
   "file_extension": ".py",
   "mimetype": "text/x-python",
   "name": "python",
   "nbconvert_exporter": "python",
   "pygments_lexer": "ipython2",
   "version": "2.7.13"
  }
 },
 "nbformat": 4,
 "nbformat_minor": 2
}
